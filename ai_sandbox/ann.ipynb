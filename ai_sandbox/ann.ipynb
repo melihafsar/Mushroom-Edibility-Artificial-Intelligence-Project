{
 "cells": [
  {
   "cell_type": "code",
   "execution_count": 6,
   "metadata": {},
   "outputs": [
    {
     "name": "stdout",
     "output_type": "stream",
     "text": [
      "Found 2720 images belonging to 2 classes.\n",
      "Found 681 images belonging to 2 classes.\n",
      "{'edible': 0, 'poisonous': 1}\n",
      "{'edible': 0, 'poisonous': 1}\n"
     ]
    }
   ],
   "source": [
    "from keras.preprocessing.image import ImageDataGenerator\n",
    "import os\n",
    "\n",
    "# Path to the dataset folder\n",
    "dataset_path = './dataset'\n",
    "\n",
    "# Image size and batch size configuration\n",
    "image_size = (128, 128)\n",
    "batch_size = 32\n",
    "\n",
    "# Creating an ImageDataGenerator object with a validation split\n",
    "datagen = ImageDataGenerator(rescale=1./255)  # 20% of the data will be used as validation\n",
    "\n",
    "# Setting up the training data generator\n",
    "train_generator = datagen.flow_from_directory(\n",
    "    os.path.join(dataset_path, 'train'),\n",
    "    target_size=image_size,\n",
    "    batch_size=batch_size,\n",
    "    class_mode='categorical',\n",
    ")\n",
    "\n",
    "# Setting up the validation data generator\n",
    "test_generator = datagen.flow_from_directory(\n",
    "    os.path.join(dataset_path, 'test'),\n",
    "    target_size=image_size,\n",
    "    batch_size=batch_size,\n",
    "    class_mode='categorical',\n",
    ")\n",
    "\n",
    "# Print the class labels for both generators\n",
    "print(train_generator.class_indices)\n",
    "print(test_generator.class_indices)"
   ]
  },
  {
   "cell_type": "code",
   "execution_count": 10,
   "metadata": {},
   "outputs": [
    {
     "name": "stdout",
     "output_type": "stream",
     "text": [
      "Model: \"sequential_2\"\n",
      "_________________________________________________________________\n",
      " Layer (type)                Output Shape              Param #   \n",
      "=================================================================\n",
      " flatten_2 (Flatten)         (None, 49152)             0         \n",
      "                                                                 \n",
      " dense_10 (Dense)            (None, 128)               6291584   \n",
      "                                                                 \n",
      " dense_11 (Dense)            (None, 512)               66048     \n",
      "                                                                 \n",
      " dense_12 (Dense)            (None, 256)               131328    \n",
      "                                                                 \n",
      " dense_13 (Dense)            (None, 2)                 514       \n",
      "                                                                 \n",
      "=================================================================\n",
      "Total params: 6,489,474\n",
      "Trainable params: 6,489,474\n",
      "Non-trainable params: 0\n",
      "_________________________________________________________________\n"
     ]
    }
   ],
   "source": [
    "from keras.models import Sequential\n",
    "from keras.layers import Conv2D, MaxPooling2D, Flatten, Dense, Dropout\n",
    "\n",
    "# Initialize the model\n",
    "model = Sequential()\n",
    "\n",
    "# # Add a convolutional layer with 32 filters, a 3x3 kernel, and ReLU activation\n",
    "# model.add(Conv2D(32, (3, 3), activation='relu', input_shape=(128, 128, 3)))\n",
    "\n",
    "# # Add a max pooling layer with a 2x2 pool size\n",
    "# model.add(MaxPooling2D(pool_size=(2, 2)))\n",
    "\n",
    "# # Add another convolutional layer with 64 filters and ReLU activation\n",
    "# model.add(Conv2D(64, (3, 3), activation='relu'))\n",
    "\n",
    "# # Add another max pooling layer\n",
    "# model.add(MaxPooling2D(pool_size=(2, 2)))\n",
    "\n",
    "# Flatten the output from the convolutional layers\n",
    "model.add(Flatten())\n",
    "\n",
    "# Add a fully connected (dense) layer with 128 units and ReLU activation\n",
    "model.add(Dense(128, activation='relu'))\n",
    "\n",
    "model.add(Dense(128, activation='relu'))\n",
    "\n",
    "model.add(Dense(128, activation='relu'))\n",
    "\n",
    "# Add a dropout layer for regularization\n",
    "model.add(Dropout(0.5))\n",
    "\n",
    "# Add the output layer with softmax activation for classification\n",
    "model.add(Dense(2, activation='softmax'))  # 4 classes\n",
    "\n",
    "# Compile the model\n",
    "model.compile(optimizer='adam', loss='categorical_crossentropy', metrics=['accuracy'])\n",
    "\n",
    "# Summary of the model\n",
    "model.summary()\n"
   ]
  },
  {
   "cell_type": "code",
   "execution_count": 11,
   "metadata": {},
   "outputs": [],
   "source": [
    "model.compile(optimizer='adam', loss='categorical_crossentropy', metrics=['accuracy'])"
   ]
  },
  {
   "cell_type": "code",
   "execution_count": 13,
   "metadata": {},
   "outputs": [
    {
     "name": "stdout",
     "output_type": "stream",
     "text": [
      "Epoch 1/10\n",
      " 1/85 [..............................] - ETA: 8s - loss: 0.7064 - accuracy: 0.5625"
     ]
    },
    {
     "name": "stderr",
     "output_type": "stream",
     "text": [
      "2024-05-26 12:59:40.237256: I tensorflow/core/common_runtime/executor.cc:1197] [/device:CPU:0] (DEBUG INFO) Executor start aborting (this does not indicate an error and you can ignore this message): INVALID_ARGUMENT: You must feed a value for placeholder tensor 'Placeholder/_0' with dtype int32\n",
      "\t [[{{node Placeholder/_0}}]]\n"
     ]
    },
    {
     "name": "stdout",
     "output_type": "stream",
     "text": [
      "85/85 [==============================] - 9s 101ms/step - loss: 0.6459 - accuracy: 0.6529\n",
      "Epoch 2/10\n",
      "85/85 [==============================] - 9s 104ms/step - loss: 0.6455 - accuracy: 0.6529\n",
      "Epoch 3/10\n",
      "85/85 [==============================] - 9s 100ms/step - loss: 0.6462 - accuracy: 0.6529\n",
      "Epoch 4/10\n",
      "85/85 [==============================] - 9s 102ms/step - loss: 0.6460 - accuracy: 0.6529\n",
      "Epoch 5/10\n",
      "85/85 [==============================] - 9s 102ms/step - loss: 0.6458 - accuracy: 0.6529\n",
      "Epoch 6/10\n",
      "85/85 [==============================] - 9s 101ms/step - loss: 0.6461 - accuracy: 0.6529\n",
      "Epoch 7/10\n",
      "85/85 [==============================] - 9s 103ms/step - loss: 0.6463 - accuracy: 0.6529\n",
      "Epoch 8/10\n",
      "85/85 [==============================] - 9s 100ms/step - loss: 0.6461 - accuracy: 0.6529\n",
      "Epoch 9/10\n",
      "85/85 [==============================] - 9s 105ms/step - loss: 0.6468 - accuracy: 0.6529\n",
      "Epoch 10/10\n",
      "85/85 [==============================] - 9s 103ms/step - loss: 0.6460 - accuracy: 0.6529\n"
     ]
    }
   ],
   "source": [
    "history = model.fit(train_generator, epochs=10)"
   ]
  },
  {
   "cell_type": "code",
   "execution_count": 14,
   "metadata": {},
   "outputs": [
    {
     "data": {
      "text/plain": [
       "[<matplotlib.lines.Line2D at 0x7f20b9ecd6c0>]"
      ]
     },
     "execution_count": 14,
     "metadata": {},
     "output_type": "execute_result"
    },
    {
     "data": {
      "image/png": "[encoded data removed]",
      "text/plain": [
       "<Figure size 640x480 with 1 Axes>"
      ]
     },
     "metadata": {},
     "output_type": "display_data"
    }
   ],
   "source": [
    "import matplotlib.pyplot as plt\n",
    "\n",
    "plt.title(\"Model 1\")\n",
    "plt.plot(history.history['accuracy'],label='accuracy')"
   ]
  },
  {
   "cell_type": "code",
   "execution_count": null,
   "metadata": {},
   "outputs": [],
   "source": [
    "validation_results = model.evaluate_generator(test_generator)\n",
    "print(validation_results)"
   ]
  },
  {
   "cell_type": "code",
   "execution_count": null,
   "metadata": {},
   "outputs": [],
   "source": [
    "# Specify the file path to save the model\n",
    "model_path = 'cnn.h5'\n",
    "\n",
    "# Save the model\n",
    "model.save(model_path)\n"
   ]
  }
 ],
 "metadata": {
  "kernelspec": {
   "display_name": "tf",
   "language": "python",
   "name": "tf"
  },
  "language_info": {
   "codemirror_mode": {
    "name": "ipython",
    "version": 3
   },
   "file_extension": ".py",
   "mimetype": "text/x-python",
   "name": "python",
   "nbconvert_exporter": "python",
   "pygments_lexer": "ipython3",
   "version": "3.10.14"
  }
 },
 "nbformat": 4,
 "nbformat_minor": 2
}
